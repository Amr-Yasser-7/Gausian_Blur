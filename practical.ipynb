{
 "cells": [
  {
   "cell_type": "code",
   "execution_count": null,
   "id": "c95c681c",
   "metadata": {},
   "outputs": [],
   "source": [
    "import cv2\n",
    "import numpy as np\n",
    "import matplotlib.pyplot as plt\n",
    "\n",
    "# 1. Load a high-detail image (replace with your image path)\n",
    "image = cv2.imread('hi.jpg')  # Try an image with fine details\n",
    "image = cv2.cvtColor(image, cv2.COLOR_BGR2RGB)\n",
    "\n",
    "# 2. Apply aggressive blurring to exaggerate differences\n",
    "blurred_mild = cv2.GaussianBlur(image, (25, 25), 10)  # Mild blur (larger kernel + sigma)\n",
    "blurred_strong = cv2.GaussianBlur(image, (51, 51), 20)  # Strong blur\n",
    "blurred_extreme = cv2.GaussianBlur(image, (101, 101), 30)  # Extreme blur\n",
    "\n",
    "# 3. Calculate absolute differences (highlight changes)\n",
    "diff_mild = cv2.absdiff(image, blurred_mild)\n",
    "diff_strong = cv2.absdiff(image, blurred_strong)\n"
   ]
  },
  {
   "cell_type": "code",
   "execution_count": null,
   "id": "b356d6f3",
   "metadata": {},
   "outputs": [],
   "source": [
    "\n",
    "# 4. Display results\n",
    "plt.figure(figsize=(20, 10))\n",
    "\n",
    "# Original Image\n",
    "plt.subplot(231)\n",
    "plt.imshow(image)\n",
    "plt.title('Original (High Detail)')\n",
    "plt.axis('off')\n",
    "\n",
    "# Mild Blur\n",
    "plt.subplot(232)\n",
    "plt.imshow(blurred_mild)\n",
    "plt.title(f'Mild Blur\\n(25x25, σ=10)')\n",
    "plt.axis('off')\n",
    "\n",
    "# Strong Blur\n",
    "plt.subplot(233)\n",
    "plt.imshow(blurred_strong)\n",
    "plt.title(f'Strong Blur\\n(51x51, σ=20)')\n",
    "plt.axis('off')\n",
    "\n",
    "# Extreme Blur\n",
    "plt.subplot(234)\n",
    "plt.imshow(blurred_extreme)\n",
    "plt.title(f'Extreme Blur\\n(101x101, σ=30)')\n",
    "plt.axis('off')\n",
    "\n",
    "# Difference (Mild)\n",
    "plt.subplot(235)\n",
    "plt.imshow(diff_mild, cmap='jet', vmax=100)  # Jet colormap for clarity\n",
    "plt.title('Difference Map (Mild)')\n",
    "plt.axis('off')\n",
    "plt.colorbar()\n",
    "\n",
    "# Difference (Strong)\n",
    "plt.subplot(236)\n",
    "plt.imshow(diff_strong, cmap='jet', vmax=100)\n",
    "plt.title('Difference Map (Strong)')\n",
    "plt.axis('off')\n",
    "plt.colorbar()\n",
    "\n",
    "plt.tight_layout()\n",
    "plt.show()"
   ]
  }
 ],
 "metadata": {
  "language_info": {
   "name": "python"
  }
 },
 "nbformat": 4,
 "nbformat_minor": 5
}
